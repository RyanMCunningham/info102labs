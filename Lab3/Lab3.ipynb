{
 "cells": [
  {
   "cell_type": "markdown",
   "metadata": {},
   "source": [
    "# Lab 3: Strings, Stacks, and Sorts\n",
    "Like last week's lab, this lab will be in Jupyter Notebooks. Follow the instructions to complete the lab and ask your TA if you need any help."
   ]
  },
  {
   "cell_type": "markdown",
   "metadata": {},
   "source": [
    "## Strings \n",
    "As we discussed in class, strings are the way we encode text in computers. Let’s start by exploring how Python represents strings. Below, you'll find a program. This program starts by creating two lists. Lists in Python start with the \\[ symbol and end with the \\] symbol. Each of the elements of the list is separated by a comma. The first list created by this script contains a series of integers and the second contains a list of strings. Both lists happen to be of length 8. After creating the two lists, the program loops through each of the elements of the two lists. And does... something to them. You should try to figure out what this loop is doing. The nice part about Python is that you can add print statements to view almost any value. Try printing out the value of i or n1 or n2 or any of the other values in the loop.\n",
    "\n",
    "Don't be afraid to ask your TA for help!"
   ]
  },
  {
   "cell_type": "code",
   "execution_count": null,
   "metadata": {},
   "outputs": [],
   "source": [
    "# strings\n",
    "# create lists\n",
    "a=[117,70,7,6,0,7,13,54]\n",
    "b=[\"T\",\"'\",\"c\",\"h\",\"a\",\"l\",\"l\",\"a\"]\n",
    "\n",
    "# loop through lists and create s\n",
    "s=\"\"\n",
    "for i in range(0,8):\n",
    "    n1=a[i]\n",
    "    n2=ord(b[i])\n",
    "    s=chr(n1^n2)+s"
   ]
  },
  {
   "cell_type": "markdown",
   "metadata": {},
   "source": [
    "## Stacks \n",
    "\n",
    "Python allows us to treat its list datatype as a stack. Given a list, we can “append” to it to push an element onto the stack and “pop” the list to pop an element onto the stack. In the program below, we create two lists named A and B. We use them as stacks. In the first loop, we pop n elements from stack A and push them onto stack B. In the second loop, we pop the same number of elements from stack B and push them onto stack A."
   ]
  },
  {
   "cell_type": "code",
   "execution_count": null,
   "metadata": {},
   "outputs": [],
   "source": [
    "# stacks\n",
    "# Start\n",
    "A=[5,3,7,4,9,2,8]\n",
    "B=[12,15]\n",
    "n=3\n",
    "\n",
    "# Loop 1\n",
    "for i in range(n):\n",
    "    x=A.pop()\n",
    "    B.append(x)\n",
    "\n",
    "print(\"After Loop 1\")\n",
    "print(\"Stack A: %s\\n\" % str(A))\n",
    "print(\"Stack B: %s\\n\" % str(B))\n",
    "\n",
    "# Loop 2\n",
    "for i in range(n):\n",
    "    x=B.pop()\n",
    "    A.append(x)\n",
    "\n",
    "print(\"After Loop 2\")\n",
    "print(\"Stack A: %s\\n\" % str(A))\n",
    "print(\"Stack B: %s\\n\" % str(B))"
   ]
  },
  {
   "cell_type": "markdown",
   "metadata": {},
   "source": [
    "## Sorts\n",
    "\n",
    "You’ll find two Python programs in the cells below for this portion of the lab. You’ll have to run both. The first program imports a collection of sorting algorithms from a file called \"sorts.py\". It then builds a list of random strings. It then sorts the lists using each one of the algorithms: bubble sort, selection sort, merge sort, and quick sort. These are all famous algorithms for sorting lists. We also sort the list using Python's built-in sorting algorithm. This program times how long each of the algorithms take to sort the list. As you change n (the size of the list) you'll see that the amount of time taken changes dramatically. Try changing n a few times to see how the numbers change for the different sorting algorithms. **WARNING:** Don't go too crazy here. A lot of people are sharing these computers. Keep n below 3000.\n",
    "\n",
    "Every time you run the sorting program, the timing results are added to a file. The second program draws a graph of n (the size of the list) vs. t (the amount of time required to sort the list) for each of the sorting algorithms. You’ll want to collect enough data to understand the impact these values have on the runtime, so try running the sort programs with at least 10 different values for n."
   ]
  },
  {
   "cell_type": "code",
   "execution_count": null,
   "metadata": {},
   "outputs": [],
   "source": [
    "# Run the sort programs\n",
    "import random\n",
    "from timeit import default_timer as timer\n",
    "import sorts\n",
    "\n",
    "n=100     # list length\n",
    "\n",
    "# create list\n",
    "alphabet=\"ABCDEFGHIJKLMNOPQRSTUVWXYZ\"\n",
    "\n",
    "strings=[''.join([random.choice(alphabet) for i in range(20)]) for i in range(n)]\n",
    "\n",
    "# bubble\n",
    "bublist=strings[:]\n",
    "start=timer()\n",
    "sorts.bubble(bublist)\n",
    "end=timer()\n",
    "bubbletime=end-start\n",
    "print(\"Bubble sort:\\t%f\" % (bubbletime))\n",
    "\n",
    "# selection\n",
    "sellist=strings[:]\n",
    "start=timer()\n",
    "sorts.selection(sellist)\n",
    "end=timer()\n",
    "selectiontime=end-start\n",
    "print(\"Selection sort:\\t%f\" % (selectiontime))\n",
    "\n",
    "# merge\n",
    "merlist=strings[:]\n",
    "start=timer()\n",
    "merlist=sorts.mergesort(merlist)\n",
    "end=timer()\n",
    "mergetime=end-start\n",
    "print(\"Merge sort:\\t%f\" % (mergetime))\n",
    "\n",
    "# quick\n",
    "qiklist=strings[:]\n",
    "start=timer()\n",
    "sorts.quicksort(qiklist)\n",
    "end=timer()\n",
    "quicktime=end-start\n",
    "print(\"Quick sort:\\t%f\" % (quicktime))\n",
    "\n",
    "# Python\n",
    "start=timer()\n",
    "strings.sort()\n",
    "end=timer()\n",
    "pythontime=end-start\n",
    "print(\"Python sort:\\t%f\" % (pythontime))\n",
    "\n",
    "# Write the data\n",
    "f=open(\"timedata.csv\",\"a\")\n",
    "f.write(\"%d,%f,%f,%f,%f,%f\\n\" %(n,bubbletime,selectiontime,mergetime,quicktime,pythontime))\n",
    "f.close()"
   ]
  },
  {
   "cell_type": "markdown",
   "metadata": {},
   "source": [
    "## Graph Your Data\n",
    "When you run this program, it will create a graph of the timing data you generated using the previous program. You can use this to try to understand how the different algorithms behave as we increase the size of the list we're sorting (a.k.a. the variable n.)"
   ]
  },
  {
   "cell_type": "code",
   "execution_count": null,
   "metadata": {},
   "outputs": [],
   "source": [
    "# Graph the sort data\n",
    "import matplotlib.pyplot as plt\n",
    "import csv\n",
    "\n",
    "plt.rcParams['figure.figsize'] = [14, 8]\n",
    "\n",
    "ns=[]\n",
    "bubs=[]\n",
    "sels=[]\n",
    "mers=[]\n",
    "qiks=[]\n",
    "pyts=[]\n",
    "with open(\"timedata.csv\",\"r\") as timedata:\n",
    "    data=csv.reader(timedata,delimiter=',')\n",
    "    for row in data:\n",
    "        n,bub,sel,mer,qik,pyt=row\n",
    "        ns.append(float(n))\n",
    "        bubs.append(float(bub))\n",
    "        sels.append(float(sel))\n",
    "        mers.append(float(mer))\n",
    "        qiks.append(float(qik))\n",
    "        pyts.append(float(pyt))\n",
    "\n",
    "plt.plot(ns,bubs,'.',label=\"Bubble\")\n",
    "plt.plot(ns,sels,'.',label=\"Selection\")\n",
    "plt.plot(ns,mers,'.',label=\"Merge\")\n",
    "plt.plot(ns,qiks,'.',label=\"Quick\")\n",
    "plt.plot(ns,pyts,'.',label=\"Python\")\n",
    "plt.legend(loc=\"upper left\")\n",
    "\n",
    "plt.show()"
   ]
  },
  {
   "cell_type": "markdown",
   "metadata": {},
   "source": [
    "## Lab Questions\n",
    "1.\tIn the first program, what does ord do? What does chr do?\n",
    "2.\tIn the first program, what is the final value of s? How did it get there?\n",
    "3.\tIn the second program, how does changing the value of n change the output of the first loop? How is the order of the elements in stack A different than the order in stack B?\n",
    "4.\tAfter both loops have executed in the second program, how have the two stacks changed? How does changing the value of n influence the output? Why does this happen?\n",
    "5.\tWe say the sorting programs ”sort the list of strings.” What does that mean? What order are the strings put in?\n",
    "6.\tAs you double n (the size of the lists,) how does the runtime change for each of the sorting algorithms?\n",
    "7.\tWhich sorting algorithm performs the worst? Ignoring the Python sort, which sorting algorithm performs the best?\n",
    "8.\tWhy do you think the Python sort algorithm performs so well?"
   ]
  }
 ],
 "metadata": {
  "kernelspec": {
   "display_name": "Python 3",
   "language": "python",
   "name": "python3"
  },
  "language_info": {
   "codemirror_mode": {
    "name": "ipython",
    "version": 3
   },
   "file_extension": ".py",
   "mimetype": "text/x-python",
   "name": "python",
   "nbconvert_exporter": "python",
   "pygments_lexer": "ipython3",
   "version": "3.8.5"
  }
 },
 "nbformat": 4,
 "nbformat_minor": 4
}
