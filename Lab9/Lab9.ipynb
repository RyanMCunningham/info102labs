{
 "cells": [
  {
   "cell_type": "markdown",
   "metadata": {},
   "source": [
    "# Lab 9 \n",
    "\n",
    "## TLS and X.509\n",
    "\n",
    "Using Chrome, you can view the details of a TLS connection to a website and its certificate. Let’s look at the details of connecting to the Illinois state government website.\n",
    "\n",
    "Open Chrome and navigate to `www2.illinois.gov`. In the upper right-hand corner of your browser, you should see a symbol that looks something like this: \n",
    "<img src=\"dots.png\">\n",
    "Click on this and select `More Tools` from the drop-down menu.\n",
    "<img src=\"moretools.png\" width=\"400\">\n",
    "From there, you should be able to select `Developer Tools`. When you do, you should see an overlay that looks something like this:\n",
    "<img src=\"overlay.png\" width=\"400\">\n",
    "Up at the top, you should see tabs like `Elements` and `Console` and `Sources`. To the right of all of them, there should be a little symbol that looks like `>>`. Click on that symbol and select `Security` from the drop-down menu.\n",
    "This should take you to the `Security Overview`. This is (finally!) what we want to look at.\n",
    "<img src=\"overview.png\" width=\"400\">\n",
    "From this overview, can view the details of the TLS connection, including the cipher suite. You can also select `View Certificate` to view the details of the website's X.509 certificate, like the date it was issued, the cryptographic algorithms involved, and the issuer (you'll need to click on the little triangle at the bottom next to `Details` to see all of this information.)\n",
    "\n",
    "You'll need some of the information here to answer the lab questions. Once you feel like you've gathered the information you need, take a tour of some other websites you're familiar with and examine their TLS settings."
   ]
  },
  {
   "cell_type": "markdown",
   "metadata": {},
   "source": [
    "# STREAM\n",
    "\n",
    "We have an implementation of a simple stream cipher algorithm. For now, you should ignore the variable `mystery`. The program encrypts the plaintext message `p` into ciphertext `c` using the key 12. The key is just a number. The `encrypt` function performs this encryption process. Calling the *exact same function* `encrypt` with the same key decrypts the ciphertext back to plaintext. Try a few different values for `message` and `key` to better understand how this program works.\n",
    "\n",
    "**CHALLENGE** We have a challenge for you. The variable `mystery` is a message encrypted with this cipher system. Our random number generator is bad, which creates a weakness in the stream cipher. Can you exploit this to recover the message?"
   ]
  },
  {
   "cell_type": "code",
   "execution_count": null,
   "metadata": {},
   "outputs": [],
   "source": [
    "def rand(n):\n",
    "    return (n*5+12)%32\n",
    "\n",
    "def encrypt(message,key):\n",
    "    r=rand(key)\n",
    "    cipher=[]\n",
    "    for p in message:\n",
    "        r=rand(r)\n",
    "        n=ord(p)^r\n",
    "        c=chr(n)\n",
    "        cipher.append(c)\n",
    "    return ''.join(cipher)\n",
    "\n",
    "mystery='''Mf{dt}v {gf|x4$abg`xyj$teeq<<qj x`q0}a cn4gsv`e~&4Q<lloy{u~x8}emzg0}k,,||yo8habl4g}k$g~mq~<yjd,o{x8‐ yf`yp8phi(Wbekpa`(wb}{oeh&4Vsj$a,{}~{ta |aqsy8sa(xol? m(gx}j` cn4dt}$C~qgd}t* X`q~<kprenq0~}cab$4qr|$t{g4~yo$rmkqc<ytpiifux\"$tdm4snmal,[uwkms (`xy8ceb|xu<U}sxawc28Le~m4yr8phi(wqolhe,gr0hpa Ozmchyh,,||u<Koeg{}c<lkog(wrlvo`&4^so$tdm4Cw}ose{4w}lle~(}~<lle,{usn}` o`u}~}v,,|un}$tdm4Snawtmd4x}vcs,ivj}$a,{|qzl$oj(uyn8enh(ryn}* X`q0Osakag0kqph,||uuj$hmzp0}v` x}ch}` ngpyyk( x`qyn8la~{|0}v` x}ch}` {ax|o6$Fcz4q<lloy{u~x8}emzg0hpay,`ufy8vu`mp<<aat,f{g<lle~m4qn}$obdm0h}j.,I4teqjg,zusy4$rydqt<z} m(piuvc iedunwv,,ay`nqwobmp0kqphef4dt}isidbuo8mn,i4teqjg,du~x6$Tclui08knom4}sja,,||ue8cax`qb<yp x`q0_j}sxix0}k$tdm4vujwt,{a~<{hiajg0hw$ix{4`yyo.,N{b<lli(}c<lle,ui<wb x`q0Osakag><Yw x`qi<jevmoqt<lle,du~x4$sc(`s8phiq4|yyvnil4ds8`rm4~yo$lenq0zjkm,||u<kqn\"(@xy},,gzsy8io~m80hpay,}|p8ve|dq~ukl x`q}o}hvi{80paax(pu}ll mouyr4$tdz{e{p$tdm4`soar,gr0hpai~(gijge (`xyqv xzqqomve (`xyqv ji`u<‌$tdm4T}jo Ozmchyh.,Jad<lkdmq80hpa omfuqwjy,gr0hpa }z0{qre(z<{kmjgfd28Pohim<<yj iedunwv `aqc<|}ibo:0Hw`au$4q<vaw,my`yjkr,each8weerq0hpa x`fr}*'''\n",
    "\n",
    "p=\"I want you to have fun.\"\n",
    "k=17\n",
    "c=encrypt(p,k)\n",
    "print('Encrypted message:',c)\n",
    "p=encrypt(c,k)\n",
    "print('Decrypted message:',p)"
   ]
  },
  {
   "cell_type": "markdown",
   "metadata": {},
   "source": [
    "# Lab Questions\n",
    "\n",
    "1. When was the illinois.gov certificate issued and when does it expire?\n",
    "2. What hash algorithm was used to sign the certificate and what public key crypto system was used? What\n",
    "would the browser use these two algorithms to accomplish?\n",
    "3. Is the illinois.gov certificate a [wild card certificate](https://en.wikipedia.org/wiki/Wildcard_certificate)?\n",
    "4. What are the first 8 bytes of the `illinois.gov` public key? What would the browser use this key for?\n",
    "5. What is the chain of trust for the `illinois.gov` certificate? In other words, who signed their certificate?\n",
    "6. What version of TLS did you use to connect to `illinois.gov`? What key exchange algorithm was used and\n",
    "what cipher was used? What is the purpose of the key exchange algorithm? What is the purpose of the\n",
    "cipher?\n",
    "7. Make a new TLS connection to `washingtonpost.com`. How does the cipher suite compare to the\n",
    "connection you made to `illinois.gov`?\n",
    "8. Browse around the web to any site you're familiar with. What are the strangest cipher suites you can find?\n",
    "9. Why does the same function work for encryption and decryption in the STREAM program??\n",
    "10. (CHALLENGE) What is the plaintext corresponding to the ciphertext `mystery` in STREAM?\n"
   ]
  }
 ],
 "metadata": {
  "kernelspec": {
   "display_name": "Python 3",
   "language": "python",
   "name": "python3"
  },
  "language_info": {
   "codemirror_mode": {
    "name": "ipython",
    "version": 3
   },
   "file_extension": ".py",
   "mimetype": "text/x-python",
   "name": "python",
   "nbconvert_exporter": "python",
   "pygments_lexer": "ipython3",
   "version": "3.8.5"
  }
 },
 "nbformat": 4,
 "nbformat_minor": 4
}
