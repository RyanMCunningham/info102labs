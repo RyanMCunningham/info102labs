{
 "cells": [
  {
   "cell_type": "markdown",
   "metadata": {},
   "source": [
    "# Lab 2: Simple Computation\n",
    "This is our first Jupyter Notebook. Notebooks are a way to interactively explore computing concepts without installing a lot of software. Basically, they act like a website where you can type in some Python code and run it. In this particular notebook, we will explore some very basic computation concepts. Hopefully, you'll also get the hang of Jupyter Notebooks along the way.\n",
    "\n",
    "## Juptyer Notebooks\n",
    "\n",
    "The box below this text is a Jupyter Notebook cell. It's set up to be an interactive Python session. You can run the program in the cell by clicking on the cell and then clicking the \"Run\" button up top."
   ]
  },
  {
   "cell_type": "code",
   "execution_count": null,
   "metadata": {},
   "outputs": [],
   "source": [
    "2+3"
   ]
  },
  {
   "cell_type": "markdown",
   "metadata": {},
   "source": [
    "You can also change the code in the cell and run it again. Feel free to try it out. Basically, any Python program you type in that little box will execute when you click the \"Run\" button.\n",
    "\n",
    "By the way, this text is also in a cell. Jupyter has different kinds of cells. Some are for text (\"Markdown\" cells) and others are for Python (\"Code\" cells). If you ever find yourself accidentally editing some of the text in a Jupyter notebook, you can just click the \"Run\" button to restore the text."
   ]
  },
  {
   "cell_type": "markdown",
   "metadata": {},
   "source": [
    "## Carrots and Sticks\n",
    "Our first Python program explores two operators in Python, the ^ and | operators. What do they do? Run the program and look at the results. Change the values assigned to variables x and y and run it again. Look for patterns.\n",
    "\n",
    "**Hint**: The binary representation might be helpful to consider. The Python function called \"bin\" is useful for converting numbers to binary."
   ]
  },
  {
   "cell_type": "code",
   "execution_count": null,
   "metadata": {},
   "outputs": [],
   "source": [
    "# Carrots and Sticks\n",
    "x=5\n",
    "y=3\n",
    "c=x^y\n",
    "s=x|y\n",
    "\n",
    "print(\"Carrot:\",c)\n",
    "print(\"Stick:\",s)"
   ]
  },
  {
   "cell_type": "markdown",
   "metadata": {},
   "source": [
    "## Side Eye\n",
    "Or second Python program explores two operators in Python, the << and >> operators. Once again, try to figure out what do they do. Run the program and look at the results. Change the values assigned to the variables x and y and run it again. Look for patterns.\n",
    "**Hint:** Again, the binary representation is likely to come in handy."
   ]
  },
  {
   "cell_type": "code",
   "execution_count": null,
   "metadata": {},
   "outputs": [],
   "source": [
    "# Side eye\n",
    "x=4\n",
    "y=1\n",
    "L=x<<y\n",
    "R=x>>y\n",
    "\n",
    "print(\"L is:\",L)\n",
    "print(\"R is:\",R)"
   ]
  },
  {
   "cell_type": "markdown",
   "metadata": {},
   "source": [
    "## Divisive\n",
    "Our third program explores three more operators in Python, the /, //, and % operators. You probably won't need the binary representation here. I suspect you already know what the / operator does. The other two operators are related."
   ]
  },
  {
   "cell_type": "code",
   "execution_count": null,
   "metadata": {},
   "outputs": [],
   "source": [
    "# Divisive\n",
    "a=2\n",
    "b=8\n",
    "\n",
    "c=a/b\n",
    "d=a//b\n",
    "e=a%b\n",
    "\n",
    "print(\"C is:\",c)\n",
    "print(\"D is:\",d)\n",
    "print(\"E is:\",e)"
   ]
  },
  {
   "cell_type": "markdown",
   "metadata": {},
   "source": [
    "## Challenge\n",
    "Did you finish the rest of the lab early? If so, I have a challenge for you. There's a message encoded below. Can you decode it? I messed with the Unicode encoding of the letters in the original message to encode it. You'll find two examples of functions that are useful when dealing with Unicode below. Are you a code breaker?\n",
    "\n",
    "**Note:** This is a challenge. It says so in the name. If you can't figure it out, you won't be penalized."
   ]
  },
  {
   "cell_type": "code",
   "execution_count": null,
   "metadata": {},
   "outputs": [],
   "source": [
    "# Challenge\n",
    "message='''J'v(ht%suriaw(ygnwhf!b(jgwrlgt oqnnymqi!wr|o&f$vvjct(hti$d\"tt{qum%juqn }pl&Ueogplr|ooh$htb.'''\n",
    "\n",
    "print(\"ord('A') =\",ord('A'))\n",
    "print(\"chr(65) =\",chr(65))"
   ]
  },
  {
   "cell_type": "markdown",
   "metadata": {},
   "source": [
    "## Lab Questions\n",
    "\n",
    "1. What does the \"^\" operator do in Python? What about the \"|\" operator? Based on your answers, can you guess what the \"&\" operator does?\n",
    "2. What do the \"<<\" and \">>\" operators do in Python? Can you describe the operations in mathematical terms?\n",
    "3. What do the \"/\", \"//\" and \"%\" operators do in Python? What's the difference between \"/\" and \"//\"?\n",
    "4. Could you decode the message?"
   ]
  }
 ],
 "metadata": {
  "kernelspec": {
   "display_name": "Python 3",
   "language": "python",
   "name": "python3"
  },
  "language_info": {
   "codemirror_mode": {
    "name": "ipython",
    "version": 3
   },
   "file_extension": ".py",
   "mimetype": "text/x-python",
   "name": "python",
   "nbconvert_exporter": "python",
   "pygments_lexer": "ipython3",
   "version": "3.8.5"
  }
 },
 "nbformat": 4,
 "nbformat_minor": 4
}
