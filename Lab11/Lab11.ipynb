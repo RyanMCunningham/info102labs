{
 "cells": [
  {
   "cell_type": "markdown",
   "metadata": {},
   "source": [
    "# Lab 11\n",
    "\n",
    "# Data Set\n",
    "\n",
    "This week, we will be looking at 2 machine learning datasets. The first, `wines.txt`, is a database containing a chemical analysis of three different wine cultivars. There are 178 wines with 13 features in this data set. The task in this dataset is to predict which cultivar each wine belongs to.\n",
    "\n",
    "The second dataset, `mystery.txt`, is a mystery. There are 10 features for each data point, and we are trying to predict a numerical result `R`. There are over 25,000 data points in this data set. This is a very simple task, which could be performed perfectly by about 15 lines of Python code. You’ll find that our machine learning classifiers have a very hard time with it. Play with the different classifiers and see if you can get one to do reasonably well."
   ]
  },
  {
   "cell_type": "markdown",
   "metadata": {},
   "source": [
    "# Decision Trees\n",
    "The program below will build a decision tree classifier. This program requires the file `wine.txt` to run (included in the lab). This program will run a cross validation for decision trees on this dataset and produce an accuracy score. It will also produce a file called `dtree.txt`. You can download this file and put the contents of that file into this website to view the tree: `www.webgraphviz.com`"
   ]
  },
  {
   "cell_type": "code",
   "execution_count": null,
   "metadata": {},
   "outputs": [],
   "source": [
    "import pandas as pd\n",
    "from sklearn import tree\n",
    "from sklearn.model_selection import cross_val_score\n",
    "from sklearn.tree import DecisionTreeClassifier\n",
    "from timeit import default_timer as timer\n",
    "\n",
    "train=pd.read_csv('wine.txt')\n",
    "X=train.drop(train.columns[0],axis=1)\n",
    "Y=train[train.columns[0]]\n",
    "\n",
    "model= DecisionTreeClassifier(criterion='entropy')\n",
    "\n",
    "start=timer()\n",
    "accuracy=(cross_val_score(model,X,Y,cv=20,scoring='accuracy')).mean()\n",
    "end=timer()\n",
    "time=end-start\n",
    "print(\"Decision tree accuracy: %f\" % accuracy)\n",
    "print(\"Decision tree training time: %f seconds\" % time)\n",
    "\n",
    "\n",
    "# Creates a dot file that you can visualize at this website\n",
    "# http://www.webgraphviz.com\n",
    "model.fit(X,Y)\n",
    "dotfile = open(\"dtree.txt\", 'w')\n",
    "tree.export_graphviz(model, out_file = dotfile, feature_names = X.columns)\n",
    "dotfile.close()"
   ]
  },
  {
   "cell_type": "markdown",
   "metadata": {},
   "source": [
    "# Nearest Neighbor\n",
    "This program below builds and run a cross validation for k-nearest neighbor classifiers on this dataset to produce an accuracy score."
   ]
  },
  {
   "cell_type": "code",
   "execution_count": null,
   "metadata": {},
   "outputs": [],
   "source": [
    "import pandas as pd\n",
    "from sklearn import preprocessing\n",
    "from sklearn.model_selection import cross_val_score\n",
    "from sklearn.neighbors import KNeighborsClassifier\n",
    "from timeit import default_timer as timer\n",
    "\n",
    "train=pd.read_csv('wine.txt')\n",
    "X=train.drop(train.columns[0],axis=1)\n",
    "Y=train[train.columns[0]]\n",
    "scaler = preprocessing.StandardScaler().fit(X)\n",
    "X=scaler.transform(X)\n",
    "\n",
    "model=KNeighborsClassifier(n_neighbors=5)\n",
    "\n",
    "start=timer()\n",
    "accuracy=(cross_val_score(model,X,Y,cv=20,scoring='accuracy')).mean()\n",
    "end=timer()\n",
    "time=end-start\n",
    "print(\"Nearest neighbor accuracy: %f\" % accuracy)\n",
    "print(\"Nearest neighbor time: %f seconds\" % time)"
   ]
  },
  {
   "cell_type": "markdown",
   "metadata": {},
   "source": [
    "# Support Vector Machines\n",
    "\n",
    "The program below builds and run a cross validation for SVM classifiers on this dataset and produces an accuracy score."
   ]
  },
  {
   "cell_type": "code",
   "execution_count": null,
   "metadata": {},
   "outputs": [],
   "source": [
    "import pandas as pd\n",
    "from sklearn import preprocessing\n",
    "from sklearn.model_selection import cross_val_score\n",
    "from sklearn import svm\n",
    "from timeit import default_timer as timer\n",
    "\n",
    "train=pd.read_csv('wine.txt')\n",
    "X=train.drop(train.columns[0],axis=1)\n",
    "Y=train[train.columns[0]]\n",
    "scaler = preprocessing.StandardScaler().fit(X)\n",
    "X=scaler.transform(X)\n",
    "\n",
    "model= svm.SVC(kernel='linear')\n",
    "\n",
    "start=timer()\n",
    "accuracy=(cross_val_score(model,X,Y,cv=20,scoring='accuracy')).mean()\n",
    "end=timer()\n",
    "time=end-start\n",
    "print(\"SVM accuracy: %f\" % accuracy)\n",
    "print(\"SVM training time: %f seconds\" % time)\n"
   ]
  },
  {
   "cell_type": "markdown",
   "metadata": {},
   "source": [
    "# Neural Networks\n",
    "\n",
    "This program builds and run a cross validation for neural network classifiers on the wine dataset and produces an accuracy score. If it complains about \"max iterations\", you can ignore this."
   ]
  },
  {
   "cell_type": "code",
   "execution_count": null,
   "metadata": {},
   "outputs": [],
   "source": [
    "import pandas as pd\n",
    "from sklearn import preprocessing\n",
    "from sklearn.model_selection import cross_val_score\n",
    "from sklearn.neural_network import MLPClassifier\n",
    "from timeit import default_timer as timer\n",
    "\n",
    "train=pd.read_csv('wine.txt')\n",
    "X=train.drop(train.columns[0],axis=1)\n",
    "Y=train[train.columns[0]]\n",
    "scaler = preprocessing.StandardScaler().fit(X)\n",
    "X=scaler.transform(X)\n",
    "\n",
    "model=MLPClassifier(activation='logistic')\n",
    "\n",
    "start=timer()\n",
    "accuracy=(cross_val_score(model,X,Y,cv=20,scoring='accuracy')).mean()\n",
    "end=timer()\n",
    "time=end-start\n",
    "print(\"Neural net accuracy: %f\" % accuracy)\n",
    "print(\"Neural net training time: %f seconds\" % time)"
   ]
  },
  {
   "cell_type": "markdown",
   "metadata": {},
   "source": [
    "# Mystery\n",
    "\n",
    "This section is a challenge. We want to see who can train the best classifier for the mystery dataset. `mystery.txt` contains the mystery dataset and the program below loads it for you. Your task is to try different classifiers on the mystery dataset. Feel free to tweak the parameters of the algorithms. You can also do some preprocessing of the data if you like."
   ]
  },
  {
   "cell_type": "code",
   "execution_count": null,
   "metadata": {},
   "outputs": [],
   "source": [
    "import pandas as pd\n",
    "from sklearn import preprocessing\n",
    "from sklearn.model_selection import cross_val_score\n",
    "from sklearn.neighbors import KNeighborsClassifier\n",
    "from sklearn.neural_network import MLPClassifier\n",
    "from sklearn import svm\n",
    "from sklearn.tree import DecisionTreeClassifier\n",
    "from timeit import default_timer as timer\n",
    "\n",
    "train=pd.read_csv('mystery.txt')\n",
    "X=train.drop(train.columns[-1],axis=1)\n",
    "Y=train[train.columns[-1]]\n",
    "\n",
    "model= DecisionTreeClassifier(criterion='entropy')\n",
    "\n",
    "start=timer()\n",
    "accuracy=(cross_val_score(model,X,Y,cv=20,scoring='accuracy')).mean()\n",
    "end=timer()\n",
    "time=end-start\n",
    "print(\"Mystery accuracy: %f\" % accuracy)\n",
    "print(\"Mystery training time: %f seconds\" % time)\n"
   ]
  },
  {
   "cell_type": "markdown",
   "metadata": {},
   "source": [
    "# Lab Questions\n",
    "\n",
    "1. What feature was most important in the decision tree classifier? What leads you to conclude that this is the most important feature?\n",
    "2. The decision tree classifier can split most of the first cultivar from the rest of the wines by making a series of decisions. What are those decisions?\n",
    "3. The decision tree classifier can identify most of the third cultivar. What series of decisions would lead to a classification as the third cultivar?\n",
    "4. Which of the machine learning algorithms performs the best on the wine data set? Which performs the worst? Which takes the longest time to train? Which takes the least?\n",
    "5. What classifiers and parameters did you try on the mystery dataset?\n",
    "6. What was your best performance on the mystery dataset? What algorithm and parameters did you use to get this result?\n",
    "7. Can you guess what the mystery task is?"
   ]
  }
 ],
 "metadata": {
  "kernelspec": {
   "display_name": "Python 3",
   "language": "python",
   "name": "python3"
  },
  "language_info": {
   "codemirror_mode": {
    "name": "ipython",
    "version": 3
   },
   "file_extension": ".py",
   "mimetype": "text/x-python",
   "name": "python",
   "nbconvert_exporter": "python",
   "pygments_lexer": "ipython3",
   "version": "3.8.5"
  }
 },
 "nbformat": 4,
 "nbformat_minor": 4
}
