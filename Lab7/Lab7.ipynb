{
 "cells": [
  {
   "cell_type": "markdown",
   "metadata": {},
   "source": [
    "# Lab 7\n",
    "\n",
    "## Collatz Sequence\n",
    "\n",
    "Below, we have a relatively simple program. Go ahead and run it. You’ll note that the program depends on one input `n`. The program then computes a sequence of numbers based on that starting number. The program prints out that sequence. Try different values of `n` and observe how the sequences change. Look for patterns in the sequences that get printed. Some interesting numbers to try: 27, 28, and 32. As you try larger and larger numbers, the sequences get longer and longer. But the program always seems to stop. Does it always stop?"
   ]
  },
  {
   "cell_type": "code",
   "execution_count": null,
   "metadata": {},
   "outputs": [],
   "source": [
    "n=28\n",
    "\n",
    "print(\"Sequence for n=%d\" % n)\n",
    "while(n!=1):\n",
    "    if n%2==1:\n",
    "        n=3*n+1\n",
    "    else:\n",
    "        n=n//2\n",
    "    print(n,end=' ')"
   ]
  },
  {
   "cell_type": "markdown",
   "metadata": {},
   "source": [
    "## Collatz Sequence\n",
    "You might have noticed that the length of the sequence changes quite dramatically depending on our starting value. To help you explore this phenomenon in detail, we have created a program to graph the starting value vs. the length of the sequence. Run it a few times, trying some different values for `m`. `m` is the largest `n` the program tries to start from."
   ]
  },
  {
   "cell_type": "code",
   "execution_count": null,
   "metadata": {},
   "outputs": [],
   "source": [
    "import matplotlib.pyplot as plt\n",
    "\n",
    "m=1000\n",
    "x=[]\n",
    "y=[]\n",
    "\n",
    "for i in range(1,m):\n",
    "    c=0\n",
    "    n=i\n",
    "    while(n!=1):\n",
    "        if n%2==1:\n",
    "            n=3*n+1\n",
    "        else:\n",
    "            n=n/2\n",
    "        c+=1\n",
    "    x.append(i)\n",
    "    y.append(c)\n",
    "\n",
    "plt.plot(x,y,'k.')\n",
    "plt.show()"
   ]
  },
  {
   "cell_type": "markdown",
   "metadata": {},
   "source": [
    "## Collatz Background\n",
    "\n",
    "This is the part of the class where I once again tell you that your math teachers probabbly misled you a bit. Math isn't a field where we have all the answers. Quite the opposite. Math is full of unsolved mysteries. The simple sequences we're exploring in this lab are deeply strange! Use the links below to learn more about them:\n",
    "* https://www.youtube.com/watch?v=5mFpVDpKX70\n",
    "* https://en.wikipedia.org/wiki/Collatz_conjecture\n",
    "* http://mathworld.wolfram.com/CollatzProblem.html"
   ]
  },
  {
   "cell_type": "markdown",
   "metadata": {},
   "source": [
    "## Lab Questions\n",
    "\n",
    "1. Describe what the first program does in your own words. It begins with a number `n`. How does it generate the next number in the sequence? When does it stop generating numbers? What is the role of the modulo operator?\n",
    "2. Are there common patterns in the output of the first program? What are those patterns? The ending of the sequence in particular always has a very specific pattern. Can you describe it?\n",
    "3. Do you see any patterns in the graphs produced the second program? How would you describe these graphs?\n",
    "4. Do you think you could find a number `n` that causes the first program to go on forever? Do you think the first program always stops? Is there any reason you believe this?\n",
    "5. Based on what you’ve seen in lab and read in the background, is the program in the first program an algorithm? If we let a user pick an arbitrary `n` to start with, is this program to compute the Collatz Sequence for that number an algorithm?"
   ]
  }
 ],
 "metadata": {
  "kernelspec": {
   "display_name": "Python 3",
   "language": "python",
   "name": "python3"
  },
  "language_info": {
   "codemirror_mode": {
    "name": "ipython",
    "version": 3
   },
   "file_extension": ".py",
   "mimetype": "text/x-python",
   "name": "python",
   "nbconvert_exporter": "python",
   "pygments_lexer": "ipython3",
   "version": "3.8.5"
  }
 },
 "nbformat": 4,
 "nbformat_minor": 4
}
